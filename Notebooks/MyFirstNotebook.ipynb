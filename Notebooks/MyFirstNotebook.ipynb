{
  "cells": [
    {
      "cell_type": "markdown",
      "metadata": {
        "id": "eIEfLoFWjUFs"
      },
      "source": [
        "**Define and execute a Sum function**"
      ]
    },
    {
      "cell_type": "code",
      "execution_count": 1,
      "metadata": {
        "id": "HQuPVFoMg8yq"
      },
      "outputs": [],
      "source": [
        "def sum(a, b):\n",
        "  return a + b"
      ]
    },
    {
      "cell_type": "code",
      "execution_count": 4,
      "metadata": {
        "colab": {
          "base_uri": "https://localhost:8080/"
        },
        "id": "f4DVa0JohCom",
        "outputId": "062bedbe-6af9-4921-c4fb-d5a9a684bd7e"
      },
      "outputs": [
        {
          "data": {
            "text/plain": [
              "20"
            ]
          },
          "execution_count": 4,
          "metadata": {},
          "output_type": "execute_result"
        }
      ],
      "source": [
        "sum(5, 15)"
      ]
    },
    {
      "cell_type": "markdown",
      "metadata": {
        "id": "nCDVR3_CjkFo"
      },
      "source": [
        "**Define and execute a Sum function which uses inputs with the console**"
      ]
    },
    {
      "cell_type": "code",
      "execution_count": 5,
      "metadata": {
        "id": "51_zeJWvhJ4t"
      },
      "outputs": [],
      "source": [
        "def sum_interface():\n",
        "  a = int(input(\"What is your first number? \"))\n",
        "  b = int(input(\"What is your second number? \"))\n",
        "  print(f'{a} + {b} = {a + b}')"
      ]
    },
    {
      "cell_type": "code",
      "execution_count": 6,
      "metadata": {},
      "outputs": [],
      "source": [
        "sum_interface()"
      ]
    },
    {
      "cell_type": "code",
      "execution_count": null,
      "metadata": {},
      "outputs": [],
      "source": []
    }
  ],
  "metadata": {
    "colab": {
      "provenance": []
    },
    "kernelspec": {
      "display_name": "Python 3.10.7 64-bit",
      "language": "python",
      "name": "python3"
    },
    "language_info": {
      "codemirror_mode": {
        "name": "ipython",
        "version": 3
      },
      "file_extension": ".py",
      "mimetype": "text/x-python",
      "name": "python",
      "nbconvert_exporter": "python",
      "pygments_lexer": "ipython3",
      "version": "3.10.7"
    },
    "vscode": {
      "interpreter": {
        "hash": "aee8b7b246df8f9039afb4144a1f6fd8d2ca17a180786b69acc140d282b71a49"
      }
    }
  },
  "nbformat": 4,
  "nbformat_minor": 0
}
