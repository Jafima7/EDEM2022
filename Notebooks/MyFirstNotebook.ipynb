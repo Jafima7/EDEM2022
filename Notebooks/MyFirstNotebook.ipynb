{
  "cells": [
    {
      "cell_type": "markdown",
      "metadata": {
        "id": "eIEfLoFWjUFs"
      },
      "source": [
        "**Define and execute a Sum function**"
      ]
    },
    {
      "cell_type": "code",
      "execution_count": 3,
      "metadata": {
        "id": "HQuPVFoMg8yq"
      },
      "outputs": [],
      "source": [
        "def sum(a, b):\n",
        "  return a + b"
      ]
    },
    {
      "cell_type": "code",
      "execution_count": 19,
      "metadata": {
        "colab": {
          "base_uri": "https://localhost:8080/"
        },
        "id": "f4DVa0JohCom",
        "outputId": "062bedbe-6af9-4921-c4fb-d5a9a684bd7e"
      },
      "outputs": [
        {
          "data": {
            "text/plain": [
              "20"
            ]
          },
          "execution_count": 19,
          "metadata": {},
          "output_type": "execute_result"
        }
      ],
      "source": [
        "sum(5, 15)"
      ]
    },
    {
      "cell_type": "markdown",
      "metadata": {
        "id": "nCDVR3_CjkFo"
      },
      "source": [
        "**Define and execute a Sum function which uses inputs with the console**"
      ]
    },
    {
      "cell_type": "code",
      "execution_count": 17,
      "metadata": {
        "id": "51_zeJWvhJ4t"
      },
      "outputs": [],
      "source": [
        "def sum_interface():\n",
        "  a = int(input(\"What is your first number? \"))\n",
        "  b = int(input(\"What is your second number? \"))\n",
        "  print(f'{a} + {b} = {a + b}')"
      ]
    },
    {
      "cell_type": "code",
      "execution_count": 18,
      "metadata": {
        "colab": {
          "base_uri": "https://localhost:8080/"
        },
        "id": "5z4LutHahyYY",
        "outputId": "23907272-d923-4341-ef6a-d0c94e065d9b"
      },
      "outputs": [
        {
          "name": "stdout",
          "output_type": "stream",
          "text": [
            "What is your first number? 5\n",
            "What is your second number? 15\n",
            "5 + 15 = 20\n"
          ]
        }
      ],
      "source": [
        "sum_interface()"
      ]
    }
  ],
  "metadata": {
    "colab": {
      "provenance": []
    },
    "kernelspec": {
      "display_name": "Python 3.10.7 64-bit",
      "language": "python",
      "name": "python3"
    },
    "language_info": {
      "name": "python",
      "version": "3.10.7"
    },
    "vscode": {
      "interpreter": {
        "hash": "aee8b7b246df8f9039afb4144a1f6fd8d2ca17a180786b69acc140d282b71a49"
      }
    }
  },
  "nbformat": 4,
  "nbformat_minor": 0
}
