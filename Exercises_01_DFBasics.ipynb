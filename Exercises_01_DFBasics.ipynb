{
  "cells": [
    {
      "cell_type": "markdown",
      "metadata": {
        "id": "view-in-github",
        "colab_type": "text"
      },
      "source": [
        "<a href=\"https://colab.research.google.com/github/Jafima7/EDEM2022/blob/main/Exercises_01_DFBasics.ipynb\" target=\"_parent\"><img src=\"https://colab.research.google.com/assets/colab-badge.svg\" alt=\"Open In Colab\"/></a>"
      ]
    },
    {
      "cell_type": "markdown",
      "metadata": {
        "id": "BNkZfzfxGZ0z"
      },
      "source": [
        "# DataFrames Basics Exercises"
      ]
    },
    {
      "cell_type": "markdown",
      "source": [
        "## Prerrequisites"
      ],
      "metadata": {
        "id": "AQieQ5pkGfNm"
      }
    },
    {
      "cell_type": "markdown",
      "source": [
        "Install Spark and Java in VM"
      ],
      "metadata": {
        "id": "HelxRmCPGpql"
      }
    },
    {
      "cell_type": "code",
      "source": [
        "# install Java8\n",
        "!apt-get install openjdk-8-jdk-headless -qq > /dev/null\n",
        "# download spark3.0.1\n",
        "!wget -q https://apache.osuosl.org/spark/spark-3.3.1/spark-3.3.1-bin-hadoop2.tgz"
      ],
      "metadata": {
        "id": "9Cn3c-ywGtDV"
      },
      "execution_count": 1,
      "outputs": []
    },
    {
      "cell_type": "code",
      "source": [
        "ls -l # check the .tgz is there"
      ],
      "metadata": {
        "colab": {
          "base_uri": "https://localhost:8080/"
        },
        "id": "D95sNcJfGvyV",
        "outputId": "d7338e8a-9b4e-4743-8355-f09f7293d727"
      },
      "execution_count": 2,
      "outputs": [
        {
          "output_type": "stream",
          "name": "stdout",
          "text": [
            "total 267684\n",
            "drwxr-xr-x 1 root root      4096 Dec  8 14:36 \u001b[0m\u001b[01;34msample_data\u001b[0m/\n",
            "-rw-r--r-- 1 root root 274099817 Oct 15 10:53 spark-3.3.1-bin-hadoop2.tgz\n"
          ]
        }
      ]
    },
    {
      "cell_type": "code",
      "source": [
        "# unzip it\n",
        "!tar xf spark-3.3.1-bin-hadoop2.tgz"
      ],
      "metadata": {
        "id": "qtBMGi7EGvwN"
      },
      "execution_count": 3,
      "outputs": []
    },
    {
      "cell_type": "code",
      "source": [
        "!pip install -q findspark"
      ],
      "metadata": {
        "id": "6JO331NrGvtt"
      },
      "execution_count": 4,
      "outputs": []
    },
    {
      "cell_type": "markdown",
      "source": [
        "Defining the environment"
      ],
      "metadata": {
        "id": "02epIDkbG24d"
      }
    },
    {
      "cell_type": "code",
      "source": [
        "import os\n",
        "os.environ[\"JAVA_HOME\"] = \"/usr/lib/jvm/java-8-openjdk-amd64\"\n",
        "os.environ[\"SPARK_HOME\"] = \"/content/spark-3.3.1-bin-hadoop2\"\n",
        "os.environ[\"PYSPARK_SUBMIT_ARGS\"] = \"--master local[*] pyspark-shell\""
      ],
      "metadata": {
        "id": "qmON5zHJG4-m"
      },
      "execution_count": 5,
      "outputs": []
    },
    {
      "cell_type": "markdown",
      "metadata": {
        "id": "WgvNJQOAGZ00"
      },
      "source": [
        "Start Spark Session\n",
        "\n",
        "---"
      ]
    },
    {
      "cell_type": "code",
      "execution_count": 6,
      "metadata": {
        "colab": {
          "base_uri": "https://localhost:8080/",
          "height": 35
        },
        "id": "siaPZq4XGZ00",
        "outputId": "bf32130e-b99f-4168-c7f1-4e0b2a34c592"
      },
      "outputs": [
        {
          "output_type": "execute_result",
          "data": {
            "text/plain": [
              "'3.3.1'"
            ],
            "application/vnd.google.colaboratory.intrinsic+json": {
              "type": "string"
            }
          },
          "metadata": {},
          "execution_count": 6
        }
      ],
      "source": [
        "import findspark\n",
        "findspark.init(\"spark-3.3.1-bin-hadoop2\")# SPARK_HOME\n",
        "\n",
        "from pyspark.sql import SparkSession\n",
        "\n",
        "# create the session\n",
        "spark = SparkSession \\\n",
        "        .builder \\\n",
        "        .appName(\"DataFramesBasics Exercises\") \\\n",
        "        .master(\"local[*]\") \\\n",
        "        .getOrCreate()\n",
        "\n",
        "spark.version"
      ]
    },
    {
      "cell_type": "code",
      "execution_count": 7,
      "metadata": {
        "colab": {
          "base_uri": "https://localhost:8080/",
          "height": 221
        },
        "id": "nsBkpLh6GZ01",
        "outputId": "28d366ea-0b80-4dcc-a5d6-30f5f6f7b7c7"
      },
      "outputs": [
        {
          "output_type": "execute_result",
          "data": {
            "text/plain": [
              "<pyspark.sql.session.SparkSession at 0x7f114f0b4ee0>"
            ],
            "text/html": [
              "\n",
              "            <div>\n",
              "                <p><b>SparkSession - in-memory</b></p>\n",
              "                \n",
              "        <div>\n",
              "            <p><b>SparkContext</b></p>\n",
              "\n",
              "            <p><a href=\"http://c765b23c6d72:4040\">Spark UI</a></p>\n",
              "\n",
              "            <dl>\n",
              "              <dt>Version</dt>\n",
              "                <dd><code>v3.3.1</code></dd>\n",
              "              <dt>Master</dt>\n",
              "                <dd><code>local[*]</code></dd>\n",
              "              <dt>AppName</dt>\n",
              "                <dd><code>DataFramesBasics Exercises</code></dd>\n",
              "            </dl>\n",
              "        </div>\n",
              "        \n",
              "            </div>\n",
              "        "
            ]
          },
          "metadata": {},
          "execution_count": 7
        }
      ],
      "source": [
        "spark"
      ]
    },
    {
      "cell_type": "code",
      "execution_count": 8,
      "metadata": {
        "id": "Bqu4fQnNGZ02"
      },
      "outputs": [],
      "source": [
        "# For Pandas conversion optimization\n",
        "spark.conf.set(\"spark.sql.execution.arrow.enabled\", \"true\")"
      ]
    },
    {
      "cell_type": "code",
      "execution_count": 9,
      "metadata": {
        "id": "-9DDmYQKGZ02"
      },
      "outputs": [],
      "source": [
        "# Import sql functions\n",
        "from pyspark.sql.functions import *"
      ]
    },
    {
      "cell_type": "markdown",
      "source": [
        "Download datasets"
      ],
      "metadata": {
        "id": "NYrtXWZIHKMt"
      }
    },
    {
      "cell_type": "code",
      "source": [
        "!mkdir -p dataset\n",
        "!wget -q https://raw.githubusercontent.com/paponsro/spark_edem_2022/master/datasets/movies.json -P /dataset\n",
        "!wget -q https://raw.githubusercontent.com/paponsro/spark_edem_2022/master/datasets/cars.json -P /dataset"
      ],
      "metadata": {
        "id": "2lkKBm3CHL-l"
      },
      "execution_count": 10,
      "outputs": []
    },
    {
      "cell_type": "code",
      "source": [
        "ls -l /dataset"
      ],
      "metadata": {
        "colab": {
          "base_uri": "https://localhost:8080/"
        },
        "id": "p5SH_5NvPQMX",
        "outputId": "12c7f722-f636-47e4-a1ad-02acdc306d61"
      },
      "execution_count": 11,
      "outputs": [
        {
          "output_type": "stream",
          "name": "stdout",
          "text": [
            "total 1324\n",
            "-rw-r--r-- 1 root root   74910 Dec 10 08:51 cars.json\n",
            "-rw-r--r-- 1 root root 1274347 Dec 10 08:51 movies.json\n"
          ]
        }
      ]
    },
    {
      "cell_type": "markdown",
      "metadata": {
        "id": "sxWVtHu5GZ02"
      },
      "source": [
        "## DataFrames Basics Exercises"
      ]
    },
    {
      "cell_type": "markdown",
      "source": [
        "1) Create a manual DF describing smartphones\n",
        "  - maker\n",
        "  - model\n",
        "  - screen dimension\n",
        "  - camera megapixels\n",
        "  \n",
        "2) Read another file from the dataset/ folder, e.g. movies.json\n",
        "  - print its schema\n",
        "  - count the number of rows, call count()"
      ],
      "metadata": {
        "id": "rZt5nAVLRmeF"
      }
    },
    {
      "cell_type": "markdown",
      "source": [
        "Exercise 1)"
      ],
      "metadata": {
        "id": "0bOK5UDMS3rc"
      }
    },
    {
      "cell_type": "code",
      "source": [
        "smartphones = spark.sparkContext.parallelize([\n",
        "    (\"Apple\", \"iPhone 12\", 6, 10),\n",
        "    (\"Samsung\", \"A51\", 8, 8),\n",
        "    (\"Samsung\", \"Galaxy Z Flip 4\", 6, 10)])"
      ],
      "metadata": {
        "id": "DF-WHVfjRq49"
      },
      "execution_count": 21,
      "outputs": []
    },
    {
      "cell_type": "code",
      "source": [
        "smartphonesDF = smartphones.toDF([\"maker\", \"model\", \"screen dimension\", \"camera megapixels\"])"
      ],
      "metadata": {
        "id": "tWPyatAnU3QZ"
      },
      "execution_count": 22,
      "outputs": []
    },
    {
      "cell_type": "code",
      "source": [
        "smartphonesDF.show()"
      ],
      "metadata": {
        "colab": {
          "base_uri": "https://localhost:8080/"
        },
        "id": "TxFlskuCWhD6",
        "outputId": "b27e5ed3-1c90-47cf-c331-c6984d0da402"
      },
      "execution_count": 23,
      "outputs": [
        {
          "output_type": "stream",
          "name": "stdout",
          "text": [
            "+-------+---------------+----------------+-----------------+\n",
            "|  maker|          model|screen dimension|camera megapixels|\n",
            "+-------+---------------+----------------+-----------------+\n",
            "|  Apple|      iPhone 12|               6|               10|\n",
            "|Samsung|            A51|               8|                8|\n",
            "|Samsung|Galaxy Z Flip 4|               6|               10|\n",
            "+-------+---------------+----------------+-----------------+\n",
            "\n"
          ]
        }
      ]
    },
    {
      "cell_type": "markdown",
      "source": [
        "Exercise 2)"
      ],
      "metadata": {
        "id": "EoWbIKLKTb2M"
      }
    },
    {
      "cell_type": "code",
      "source": [
        "moviesDF = spark.read \\\n",
        "    .format(\"json\") \\\n",
        "    .option(\"inferSchema\", \"true\") \\\n",
        "    .load(\"/dataset/movies.json\")"
      ],
      "metadata": {
        "id": "46q-qx5ORVF2"
      },
      "execution_count": 25,
      "outputs": []
    },
    {
      "cell_type": "code",
      "source": [
        "moviesDF.printSchema()\n",
        "print(f\"The Movies DF has {moviesDF.count()} rows\")"
      ],
      "metadata": {
        "colab": {
          "base_uri": "https://localhost:8080/"
        },
        "id": "ZF62JvttXL8w",
        "outputId": "afe57d02-1b8f-4b98-9f9b-f8b481408cee"
      },
      "execution_count": 26,
      "outputs": [
        {
          "output_type": "stream",
          "name": "stdout",
          "text": [
            "root\n",
            " |-- Creative_Type: string (nullable = true)\n",
            " |-- Director: string (nullable = true)\n",
            " |-- Distributor: string (nullable = true)\n",
            " |-- IMDB_Rating: double (nullable = true)\n",
            " |-- IMDB_Votes: long (nullable = true)\n",
            " |-- MPAA_Rating: string (nullable = true)\n",
            " |-- Major_Genre: string (nullable = true)\n",
            " |-- Production_Budget: long (nullable = true)\n",
            " |-- Release_Date: string (nullable = true)\n",
            " |-- Rotten_Tomatoes_Rating: long (nullable = true)\n",
            " |-- Running_Time_min: long (nullable = true)\n",
            " |-- Source: string (nullable = true)\n",
            " |-- Title: string (nullable = true)\n",
            " |-- US_DVD_Sales: long (nullable = true)\n",
            " |-- US_Gross: long (nullable = true)\n",
            " |-- Worldwide_Gross: long (nullable = true)\n",
            "\n",
            "The Movies DF has 3201 rows\n"
          ]
        }
      ]
    },
    {
      "cell_type": "markdown",
      "source": [
        "## Columns and Expressions Exercises"
      ],
      "metadata": {
        "id": "99pcX8w3SVdO"
      }
    },
    {
      "cell_type": "markdown",
      "source": [
        "1. Read the movies DF and select 2 columns of your choice\n",
        "2. Create another column summing up the total profit of the movies = US_Gross + Worldwide_Gross + DVD sales. Are you pbtaining nulls? How you can solve it?\n",
        "3. Select all COMEDY movies with IMDB rating above 6\n",
        "\n",
        "Use as many versions as possible"
      ],
      "metadata": {
        "id": "Q4LymMG0Sg_l"
      }
    },
    {
      "cell_type": "markdown",
      "source": [
        "Exercise 1)"
      ],
      "metadata": {
        "id": "OjwtUAMZizOO"
      }
    },
    {
      "cell_type": "code",
      "source": [
        "moviesDF.select(\"Title\", \"Rotten_Tomatoes_Rating\").show()"
      ],
      "metadata": {
        "id": "zggMCTkASeO0",
        "colab": {
          "base_uri": "https://localhost:8080/"
        },
        "outputId": "a7d7f0bf-0c72-469a-f907-253b108117a8"
      },
      "execution_count": 29,
      "outputs": [
        {
          "output_type": "stream",
          "name": "stdout",
          "text": [
            "+--------------------+----------------------+\n",
            "|               Title|Rotten_Tomatoes_Rating|\n",
            "+--------------------+----------------------+\n",
            "|      The Land Girls|                  null|\n",
            "|First Love, Last ...|                  null|\n",
            "|I Married a Stran...|                  null|\n",
            "|Let's Talk About Sex|                    13|\n",
            "|                Slam|                    62|\n",
            "| Mississippi Mermaid|                  null|\n",
            "|           Following|                  null|\n",
            "|             Foolish|                  null|\n",
            "|             Pirates|                    25|\n",
            "|     Duel in the Sun|                    86|\n",
            "|           Tom Jones|                    81|\n",
            "|             Oliver!|                    84|\n",
            "|To Kill A Mocking...|                    97|\n",
            "|    Tora, Tora, Tora|                  null|\n",
            "|   Hollywood Shuffle|                    87|\n",
            "|Over the Hill to ...|                  null|\n",
            "|              Wilson|                  null|\n",
            "|        Darling Lili|                  null|\n",
            "|The Ten Commandments|                    90|\n",
            "|        12 Angry Men|                  null|\n",
            "+--------------------+----------------------+\n",
            "only showing top 20 rows\n",
            "\n"
          ]
        }
      ]
    },
    {
      "cell_type": "markdown",
      "source": [
        "Exercise 2)"
      ],
      "metadata": {
        "id": "Zk5m21cBi07G"
      }
    },
    {
      "cell_type": "code",
      "source": [
        "moviesDF.select(\"Title\", col(\"US_Gross\") + col(\"Worldwide_Gross\")).show()"
      ],
      "metadata": {
        "colab": {
          "base_uri": "https://localhost:8080/"
        },
        "id": "n14gZKyshjeV",
        "outputId": "c49d82a9-46f8-4051-9cee-a3c4ce07d2b3"
      },
      "execution_count": 32,
      "outputs": [
        {
          "output_type": "stream",
          "name": "stdout",
          "text": [
            "+--------------------+----------------------------+\n",
            "|               Title|(US_Gross + Worldwide_Gross)|\n",
            "+--------------------+----------------------------+\n",
            "|      The Land Girls|                      292166|\n",
            "|First Love, Last ...|                       21752|\n",
            "|I Married a Stran...|                      406268|\n",
            "|Let's Talk About Sex|                      747230|\n",
            "|                Slam|                     2097340|\n",
            "| Mississippi Mermaid|                     2649102|\n",
            "|           Following|                       89410|\n",
            "|             Foolish|                    12053816|\n",
            "|             Pirates|                     7983650|\n",
            "|     Duel in the Sun|                    40800000|\n",
            "|           Tom Jones|                    75200000|\n",
            "|             Oliver!|                    74805754|\n",
            "|To Kill A Mocking...|                    26259692|\n",
            "|    Tora, Tora, Tora|                    59096582|\n",
            "|   Hollywood Shuffle|                    10457234|\n",
            "|Over the Hill to ...|                     6000000|\n",
            "|              Wilson|                     4000000|\n",
            "|        Darling Lili|                    10000000|\n",
            "|The Ten Commandments|                   160000000|\n",
            "|        12 Angry Men|                           0|\n",
            "+--------------------+----------------------------+\n",
            "only showing top 20 rows\n",
            "\n"
          ]
        }
      ]
    },
    {
      "cell_type": "markdown",
      "source": [
        "Exercise 3)"
      ],
      "metadata": {
        "id": "XBKzU4i0i2h6"
      }
    },
    {
      "cell_type": "code",
      "source": [
        "moviesDF.filter((moviesDF.Major_Genre == \"Comedy\") & (moviesDF.IMDB_Rating > 6)).show()"
      ],
      "metadata": {
        "colab": {
          "base_uri": "https://localhost:8080/"
        },
        "id": "RdwLESZXiY6u",
        "outputId": "6efb5e86-fef0-49a1-b5a4-5648c1097ac0"
      },
      "execution_count": 40,
      "outputs": [
        {
          "output_type": "stream",
          "name": "stdout",
          "text": [
            "+--------------------+-----------------+--------------------+-----------+----------+-----------+-----------+-----------------+------------+----------------------+----------------+--------------------+--------------------+------------+---------+---------------+\n",
            "|       Creative_Type|         Director|         Distributor|IMDB_Rating|IMDB_Votes|MPAA_Rating|Major_Genre|Production_Budget|Release_Date|Rotten_Tomatoes_Rating|Running_Time_min|              Source|               Title|US_DVD_Sales| US_Gross|Worldwide_Gross|\n",
            "+--------------------+-----------------+--------------------+-----------+----------+-----------+-----------+-----------------+------------+----------------------+----------------+--------------------+--------------------+------------+---------+---------------+\n",
            "|                null|             null|           Lionsgate|        6.8|       865|       null|     Comedy|           250000|   28-Aug-98|                  null|            null|                null|I Married a Stran...|        null|   203134|         203134|\n",
            "|                null|    Shane Meadows|       October Films|        6.9|      1417|          R|     Comedy|          2000000|   15-Apr-98|                  null|            null| Original Screenplay|24 7: Twenty Four...|        null|    72544|          72544|\n",
            "|Contemporary Fiction| Robert Rodriguez|             Miramax|        6.4|     34328|          R|     Comedy|          4000000|   25-Dec-95|                    14|            null| Original Screenplay|          Four Rooms|        null|  4301000|        4301000|\n",
            "|Contemporary Fiction|        Alan Alda|           Universal|        7.0|      1814|       null|     Comedy|          6500000|   22-May-81|                    71|            null| Original Screenplay|    The Four Seasons|        null| 42488161|       42488161|\n",
            "|Contemporary Fiction|      Tom Shadyac|        Warner Bros.|        6.6|     63543|      PG-13|     Comedy|         12000000|    4-Feb-94|                    49|            null| Original Screenplay|Ace Ventura: Pet ...|        null| 72217396|      107217396|\n",
            "|                null|     George Lucas|           Universal|        7.6|     30952|       null|     Comedy|           777000|   11-Aug-73|                    97|            null| Original Screenplay|   American Graffiti|        null|115000000|      140000000|\n",
            "|                null|      Woody Allen|                 MGM|        8.2|     65406|       null|     Comedy|          4000000|   20-Apr-77|                    98|            null| Original Screenplay|          Annie Hall|        null| 38251425|       38251425|\n",
            "|Contemporary Fiction|             null|            Alliance|        6.9|       151|  Not Rated|     Comedy|          8000000|    4-Aug-06|                    67|            null| Original Screenplay|    Bon Cop, Bad Cop|        null| 12671300|       12671300|\n",
            "|             Fantasy|   Penny Marshall|    20th Century Fox|        7.2|     49256|       null|     Comedy|         18000000|    3-Jun-88|                    96|            null| Original Screenplay|                 Big|        null|114968774|      151668774|\n",
            "|                null|      Woody Allen|                 MGM|        7.1|     12415|      PG-13|     Comedy|          2000000|   28-Apr-71|                    89|            null| Original Screenplay|             Bananas|        null|     null|           null|\n",
            "|                null|       Mel Brooks|        Warner Bros.|        7.8|     45771|       null|     Comedy|          2600000|    1-Jan-74|                    89|            null| Original Screenplay|     Blazing Saddles|        null|119500000|      119500000|\n",
            "|     Science Fiction|    Stephen Herek|      Orion Pictures|        6.7|     30341|       null|     Comedy|         10000000|   17-Feb-89|                    81|            null| Original Screenplay|Bill & Ted's Exce...|        null| 39916091|       39916091|\n",
            "|             Fantasy|       Tim Burton|        Warner Bros.|        7.3|     61197|       null|     Comedy|         15000000|   30-Mar-88|                  null|            null| Original Screenplay|        Beetle Juice|        null| 73326666|       73326666|\n",
            "|Contemporary Fiction|             null|Link Productions ...|        7.0|      7129|  Not Rated|     Comedy|         16000000|   25-Jul-08|                  null|             109| Original Screenplay|Bienvenue chez le...|        null|  1470856|      243470856|\n",
            "|Contemporary Fiction|     Harold Ramis|        Warner Bros.|        7.3|     35436|       null|     Comedy|          6000000|   25-Jul-80|                    75|            null| Original Screenplay|          Caddyshack|        null| 39846344|       39846344|\n",
            "|Contemporary Fiction|      John Huston|       Sony Pictures|        8.0|    172936|       null|     Comedy|         12000000|   28-Apr-67|                    30|            null|Based on Book/Sho...|       Casino Royale|        null| 22744718|       41744718|\n",
            "|  Historical Fiction|             null|                 MGM|        8.0|     51757|         PG|     Comedy|          3250000|   18-Nov-83|                    88|            null|Based on Book/Sho...|   A Christmas Story|        null| 19294144|       19294144|\n",
            "|  Historical Fiction|        Spike Lee|           Universal|        6.5|      3137|      PG-13|     Comedy|         14000000|   13-May-94|                    75|            null| Original Screenplay|            Crooklyn|        null| 13024170|       13024170|\n",
            "|Contemporary Fiction|Thomas Vinterberg|       October Films|        8.1|     26607|          R|     Comedy|          1300000|    9-Oct-98|                  null|            null| Original Screenplay|              Festen|        null|  1647780|        1647780|\n",
            "|Contemporary Fiction|   Amy Heckerling|  Paramount Pictures|        6.7|     39055|      PG-13|     Comedy|         13700000|    1-Jul-95|                    83|            null|Based on Book/Sho...|            Clueless|        null| 56598476|       56598476|\n",
            "+--------------------+-----------------+--------------------+-----------+----------+-----------+-----------+-----------------+------------+----------------------+----------------+--------------------+--------------------+------------+---------+---------------+\n",
            "only showing top 20 rows\n",
            "\n"
          ]
        }
      ]
    }
  ],
  "metadata": {
    "kernelspec": {
      "display_name": "Python 3.10.0 64-bit",
      "language": "python",
      "name": "python3"
    },
    "language_info": {
      "codemirror_mode": {
        "name": "ipython",
        "version": 3
      },
      "file_extension": ".py",
      "mimetype": "text/x-python",
      "name": "python",
      "nbconvert_exporter": "python",
      "pygments_lexer": "ipython3",
      "version": "3.10.0"
    },
    "orig_nbformat": 4,
    "vscode": {
      "interpreter": {
        "hash": "ff1af5cda0bea4fe5c4ebc1f94ab9f13d8998f98d08e16d8aba48673b9d00116"
      }
    },
    "colab": {
      "provenance": [],
      "include_colab_link": true
    }
  },
  "nbformat": 4,
  "nbformat_minor": 0
}