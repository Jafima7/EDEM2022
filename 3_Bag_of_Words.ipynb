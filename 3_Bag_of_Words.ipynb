{
  "nbformat": 4,
  "nbformat_minor": 0,
  "metadata": {
    "colab": {
      "provenance": [],
      "include_colab_link": true
    },
    "kernelspec": {
      "name": "python3",
      "display_name": "Python 3"
    },
    "language_info": {
      "name": "python"
    }
  },
  "cells": [
    {
      "cell_type": "markdown",
      "metadata": {
        "id": "view-in-github",
        "colab_type": "text"
      },
      "source": [
        "<a href=\"https://colab.research.google.com/github/Jafima7/EDEM2022/blob/main/3_Bag_of_Words.ipynb\" target=\"_parent\"><img src=\"https://colab.research.google.com/assets/colab-badge.svg\" alt=\"Open In Colab\"/></a>"
      ]
    },
    {
      "cell_type": "markdown",
      "source": [
        "# Bag of Words\n",
        "\n",
        "En este notebook vamos a ver un ejemplo práctico de la técnica de \"Bag of Words\".\n",
        "\n",
        "Como hemos visto, cuando operamos con textos, no hay ninguna operación matemática definida que pueda trabajar con ellos directamente. Por ejemplo, no podemos combinar las palabras _\"hola\"_ y _\"adiós\"_. \n",
        "\n",
        "Por lo tanto, para poder utilizar textos definidos en lenguaje natural, independientemente del idioma utilizado, necesitamos **transformar estos textos en vectores numéricos** que los representen.\n",
        "\n",
        "La técnica más conocida para hacer esta transformación se llama ***bolsa de palabras*** o **Bag of Words**. \n",
        "\n",
        "Veamos cómo funciona con un ejemplo. Supongamos que tenemos el siguiente texto\n",
        "\n",
        "> *El miedo es el camino hacia el Lado Oscuro. El miedo lleva a la ira, la ira lleva al odio, el odio lleva al sufrimiento. Percibo mucho miedo en ti.* — Yoda a Anakin en el Consejo Jedi.\n",
        "\n",
        "El primer paso que debemos realizar es la limpieza del dataset de caracteres extraños y homogeneizarlo a minúsculas:\n",
        "\n",
        "> el miedo es el camino hacia el lado oscuro el miedo lleva a la ira la ira lleva al odio el odio lleva al sufrimiento percibo mucho miedo en ti\n",
        "\n",
        "Después, procederemos con la **tokenización**, que consiste en transformar el texto anterior en una matriz de palabras. \n",
        "\n",
        "Es decir, vamos a separar cada una de las palabras que componen la frase anterior utilizando espacios separadores. Por tanto, obtendríamos la siguiente lista de *tokens*:\n",
        "\n",
        "`['el', 'miedo', 'es', 'el', 'camino, 'hacia', 'el', 'lado', 'oscuro', 'el', 'miedo', 'lleva', 'a', 'la', 'ira', 'la', 'ira', 'lleva', 'al', 'odio', 'el', 'odio', 'lleva', 'al', 'sufrimiento', 'percibo', 'mucho', 'miedo', 'en', 'ti']`.\n",
        "\n",
        "A partir de la lista anterior podemos construir un **diccionario** que contenga todas las palabras definidas en nuestro vocabulario. \n",
        "\n",
        "Entendemos por \"nuestro vocabulario\" las palabras que aparecen en los textos que estamos analizando. Así, analizando los *tokens* anteriores construiremos el siguiente diccionario:\n",
        "\n",
        "`['el', 'miedo', 'es', 'camino, 'hacia', 'lado', 'oscuro', 'lleva', 'a', 'la', 'ira', 'al', 'odio', 'sufrimiento', 'percibo', 'mucho', 'en', 'ti']`\n",
        "\n",
        "Por último, tenemos que transformar el texto original en un vector numérico de forma que las posiciones del vector representen las posiciones de las palabras del diccionario y los valores del vector representen el número de apariciones de la palabra del diccionario en el texto analizado. \n",
        "\n",
        "Dado que nuestro diccionario consta de 18 palabras, nuestro texto quedaría definido por el siguiente vector\n",
        "\n",
        "`[5, 3, 1, 1, 1, 1, 1, 3, 1, 2, 2, 2, 2, 1, 1, 1, 1, 1]`\n",
        "\n",
        "Viéndolo en formato tabla es más fácil de detectar:\n",
        "\n",
        "| | el | miedo | es | camino | hacia | lado | oscuro | lleva | a | la | ira | al | odio | sufrimiento | percibo | mucho | en | ti |\n",
        "| --- | --- | --- | --- | --- | --- | --- | --- | --- | --- | --- | --- | --- | --- | --- | --- | --- | --- | --- |\n",
        "| Frecuencia | 5 | 3 | 1 | 1 | 1 | 1 | 1 | 3 | 1 | 2 | 2 | 2 | 2 | 1 | 1 | 1 | 1 | 1 |\n",
        "\n",
        "Analizándolo vemos que la palabra *'miedo'* se repite 3 veces, la palabra *'ira'* 2, la palabra *'el'* 5, y así sucesivamente."
      ],
      "metadata": {
        "id": "XSW84neQ4PdR"
      }
    },
    {
      "cell_type": "markdown",
      "source": [
        "En este caso hemos dejado la limpieza de las stop-words para después, pues nos interesaba ver el cambio entre el antes y el después.\n",
        "\n",
        "Si eliminaramos las stop-words veríamos que desparecen los artículos, determinantes, preposiciones, etc.\n",
        "\n",
        "En lugar de hacerlo manualmente, como hasta ahora, vamos a hacerlo con Python."
      ],
      "metadata": {
        "id": "0d0cwDCs8LlP"
      }
    },
    {
      "cell_type": "markdown",
      "source": [
        "La forma más rápida de hacerlo es utilizando el objeto `CountVectorizer` del paquete `feature_extraction.text` de la librería `scikit-learn`.\n"
      ],
      "metadata": {
        "id": "qj4TXhJy5Oo5"
      }
    },
    {
      "cell_type": "code",
      "metadata": {
        "ExecuteTime": {
          "end_time": "2020-03-02T13:43:39.029322Z",
          "start_time": "2020-03-02T13:43:38.865734Z"
        },
        "id": "QzzEeRLsFxyS"
      },
      "source": [
        "import sklearn\n",
        "import numpy as np"
      ],
      "execution_count": 59,
      "outputs": []
    },
    {
      "cell_type": "code",
      "metadata": {
        "ExecuteTime": {
          "end_time": "2020-03-02T13:43:39.038618Z",
          "start_time": "2020-03-02T13:43:39.030666Z"
        },
        "id": "O4_vzJSlU68R"
      },
      "source": [
        "from sklearn.feature_extraction.text import CountVectorizer\n",
        "count_vectorizer = CountVectorizer()"
      ],
      "execution_count": 60,
      "outputs": []
    },
    {
      "cell_type": "code",
      "metadata": {
        "ExecuteTime": {
          "end_time": "2020-03-02T13:43:39.043934Z",
          "start_time": "2020-03-02T13:43:39.040135Z"
        },
        "id": "rrkeG7G2VHRx",
        "colab": {
          "base_uri": "https://localhost:8080/"
        },
        "outputId": "010afa93-5596-4ce0-ae4f-1174e2c8bb7d"
      },
      "source": [
        "corpus = [\n",
        "    \"El miedo es el camino hacia el Lado Oscuro. El miedo lleva a la ira, la ira lleva al odio, el odio lleva al sufrimiento. Percibo mucho miedo en ti.\"\n",
        "]\n",
        "\n",
        "X = count_vectorizer.fit_transform(corpus)\n",
        "\n",
        "print(X.toarray())\n"
      ],
      "execution_count": 61,
      "outputs": [
        {
          "output_type": "stream",
          "name": "stdout",
          "text": [
            "[[2 1 5 1 1 1 2 2 1 3 3 1 2 1 1 1 1]]\n"
          ]
        }
      ]
    },
    {
      "cell_type": "markdown",
      "metadata": {
        "id": "g2JPvuPCVEs9"
      },
      "source": [
        "Podemos ver el mapeo mediante la función `get_feature_names_out()`. Como podéis observar, ésta función detecta los símbolos de puntuación y los ignora."
      ]
    },
    {
      "cell_type": "code",
      "metadata": {
        "ExecuteTime": {
          "end_time": "2020-03-02T13:43:39.052240Z",
          "start_time": "2020-03-02T13:43:39.049943Z"
        },
        "id": "uUXOKN5eWP9H",
        "colab": {
          "base_uri": "https://localhost:8080/"
        },
        "outputId": "f2b30a35-eca9-44a2-ba81-e0a217cd824e"
      },
      "source": [
        "print(count_vectorizer.get_feature_names_out())"
      ],
      "execution_count": 62,
      "outputs": [
        {
          "output_type": "stream",
          "name": "stdout",
          "text": [
            "['al' 'camino' 'el' 'en' 'es' 'hacia' 'ira' 'la' 'lado' 'lleva' 'miedo'\n",
            " 'mucho' 'odio' 'oscuro' 'percibo' 'sufrimiento' 'ti']\n"
          ]
        }
      ]
    },
    {
      "cell_type": "markdown",
      "source": [
        "Veamos ahora si elimináramos las stop-words:"
      ],
      "metadata": {
        "id": "wLCdq7vX9DPG"
      }
    },
    {
      "cell_type": "code",
      "source": [
        "!sudo pip install -U nltk"
      ],
      "metadata": {
        "id": "YLlSPoPWIZkL",
        "colab": {
          "base_uri": "https://localhost:8080/"
        },
        "outputId": "22ea5808-20fe-4d46-de78-ee6a6de0a947"
      },
      "execution_count": 63,
      "outputs": [
        {
          "output_type": "stream",
          "name": "stdout",
          "text": [
            "Looking in indexes: https://pypi.org/simple, https://us-python.pkg.dev/colab-wheels/public/simple/\n",
            "Requirement already satisfied: nltk in /usr/local/lib/python3.10/dist-packages (3.8.1)\n",
            "Requirement already satisfied: click in /usr/local/lib/python3.10/dist-packages (from nltk) (8.1.3)\n",
            "Requirement already satisfied: joblib in /usr/local/lib/python3.10/dist-packages (from nltk) (1.2.0)\n",
            "Requirement already satisfied: regex>=2021.8.3 in /usr/local/lib/python3.10/dist-packages (from nltk) (2022.10.31)\n",
            "Requirement already satisfied: tqdm in /usr/local/lib/python3.10/dist-packages (from nltk) (4.65.0)\n"
          ]
        }
      ]
    },
    {
      "cell_type": "code",
      "source": [
        "import nltk\n",
        "from nltk.corpus import stopwords\n",
        "nltk.download('stopwords')"
      ],
      "metadata": {
        "id": "IypXswWNU9HT",
        "colab": {
          "base_uri": "https://localhost:8080/"
        },
        "outputId": "52c8cc36-9b56-4154-c25f-3de6640f3257"
      },
      "execution_count": 64,
      "outputs": [
        {
          "output_type": "stream",
          "name": "stderr",
          "text": [
            "[nltk_data] Downloading package stopwords to /root/nltk_data...\n",
            "[nltk_data]   Package stopwords is already up-to-date!\n"
          ]
        },
        {
          "output_type": "execute_result",
          "data": {
            "text/plain": [
              "True"
            ]
          },
          "metadata": {},
          "execution_count": 64
        }
      ]
    },
    {
      "cell_type": "markdown",
      "source": [
        "En este caso, es necesario limpiar el dataset y homogeneizar a minusculas antes de usar `nltk`:"
      ],
      "metadata": {
        "id": "dXJ4tIRR9jSQ"
      }
    },
    {
      "cell_type": "code",
      "source": [
        "import re\n",
        "import string\n",
        "print(string.punctuation)"
      ],
      "metadata": {
        "id": "r4mYsq2LTZ7c",
        "colab": {
          "base_uri": "https://localhost:8080/"
        },
        "outputId": "fa840660-61ae-4156-e6bc-5b5e32082592"
      },
      "execution_count": 65,
      "outputs": [
        {
          "output_type": "stream",
          "name": "stdout",
          "text": [
            "!\"#$%&'()*+,-./:;<=>?@[\\]^_`{|}~\n"
          ]
        }
      ]
    },
    {
      "cell_type": "code",
      "source": [
        "# añadimos algunos más que no están en string.punctuation, como las comillas y \n",
        "# las aperturas de interrogación/exclamación\n",
        "# si no los añadiésemos, no se eliminarían\n",
        "chars = string.punctuation + '“”¡¿'\n",
        "print(chars)"
      ],
      "metadata": {
        "id": "8zz8eWS4UCf4",
        "colab": {
          "base_uri": "https://localhost:8080/"
        },
        "outputId": "db6bd620-c65a-4c37-ba0c-03866fdbc75d"
      },
      "execution_count": 66,
      "outputs": [
        {
          "output_type": "stream",
          "name": "stdout",
          "text": [
            "!\"#$%&'()*+,-./:;<=>?@[\\]^_`{|}~“”¡¿\n"
          ]
        }
      ]
    },
    {
      "cell_type": "code",
      "source": [
        "re_punc = re.compile('[%s]' % re.escape(chars))\n",
        "# eliminar la puntuación de cada palabra\n",
        "texto = re_punc.sub('', corpus[0])\n",
        "print(texto)"
      ],
      "metadata": {
        "id": "dntEu4LYTiDL",
        "colab": {
          "base_uri": "https://localhost:8080/"
        },
        "outputId": "8ce2d2c2-f5f2-4d04-c882-76792c5ad750"
      },
      "execution_count": 67,
      "outputs": [
        {
          "output_type": "stream",
          "name": "stdout",
          "text": [
            "El miedo es el camino hacia el Lado Oscuro El miedo lleva a la ira la ira lleva al odio el odio lleva al sufrimiento Percibo mucho miedo en ti\n"
          ]
        }
      ]
    },
    {
      "cell_type": "markdown",
      "source": [
        "Convertimos el texto a minúsculas:"
      ],
      "metadata": {
        "id": "EpHXy9LaHt18"
      }
    },
    {
      "cell_type": "code",
      "source": [
        "texto = texto.lower()\n",
        "print(texto)"
      ],
      "metadata": {
        "id": "c8nsuU31ISMD",
        "colab": {
          "base_uri": "https://localhost:8080/"
        },
        "outputId": "8f8ae6aa-f627-43f5-95cf-6c2e3244fb34"
      },
      "execution_count": 68,
      "outputs": [
        {
          "output_type": "stream",
          "name": "stdout",
          "text": [
            "el miedo es el camino hacia el lado oscuro el miedo lleva a la ira la ira lleva al odio el odio lleva al sufrimiento percibo mucho miedo en ti\n"
          ]
        }
      ]
    },
    {
      "cell_type": "code",
      "source": [
        "stop_words = stopwords.words('spanish')\n",
        "palabras = texto.split(' ')\n",
        "print(palabras)"
      ],
      "metadata": {
        "id": "xDc8TzzewziV",
        "colab": {
          "base_uri": "https://localhost:8080/"
        },
        "outputId": "07d07020-5e47-4980-8d30-0cd5437fad69"
      },
      "execution_count": 69,
      "outputs": [
        {
          "output_type": "stream",
          "name": "stdout",
          "text": [
            "['el', 'miedo', 'es', 'el', 'camino', 'hacia', 'el', 'lado', 'oscuro', 'el', 'miedo', 'lleva', 'a', 'la', 'ira', 'la', 'ira', 'lleva', 'al', 'odio', 'el', 'odio', 'lleva', 'al', 'sufrimiento', 'percibo', 'mucho', 'miedo', 'en', 'ti']\n"
          ]
        }
      ]
    },
    {
      "cell_type": "markdown",
      "source": [
        "Eliminamos las stop-words:"
      ],
      "metadata": {
        "id": "9SZiAtvf-DE6"
      }
    },
    {
      "cell_type": "code",
      "source": [
        "palabras_limpias = [p for p in palabras if p not in stop_words]\n",
        "print(palabras_limpias)"
      ],
      "metadata": {
        "id": "lSyfyWO79dc5",
        "colab": {
          "base_uri": "https://localhost:8080/"
        },
        "outputId": "394999ff-5bc3-476b-9a2c-8121ae4f9329"
      },
      "execution_count": 70,
      "outputs": [
        {
          "output_type": "stream",
          "name": "stdout",
          "text": [
            "['miedo', 'camino', 'hacia', 'lado', 'oscuro', 'miedo', 'lleva', 'ira', 'ira', 'lleva', 'odio', 'odio', 'lleva', 'sufrimiento', 'percibo', 'miedo']\n"
          ]
        }
      ]
    },
    {
      "cell_type": "markdown",
      "source": [
        "Unimos el texto de nuevo:"
      ],
      "metadata": {
        "id": "GvWLiMSv-njd"
      }
    },
    {
      "cell_type": "code",
      "source": [
        "texto_limpio = ' '.join(palabras_limpias)\n",
        "print(texto_limpio)"
      ],
      "metadata": {
        "id": "hSXYC4OS-ouF",
        "colab": {
          "base_uri": "https://localhost:8080/"
        },
        "outputId": "a08d9f97-990e-40d8-bf3c-c36101b39e23"
      },
      "execution_count": 71,
      "outputs": [
        {
          "output_type": "stream",
          "name": "stdout",
          "text": [
            "miedo camino hacia lado oscuro miedo lleva ira ira lleva odio odio lleva sufrimiento percibo miedo\n"
          ]
        }
      ]
    },
    {
      "cell_type": "markdown",
      "source": [
        "Y aplicamos la técnica de Bag of Words:"
      ],
      "metadata": {
        "id": "J8iAu8pg-FUX"
      }
    },
    {
      "cell_type": "code",
      "source": [
        "from sklearn.feature_extraction.text import CountVectorizer\n",
        "count_vectorizer = CountVectorizer()\n",
        "\n",
        "# el objeto count_vectorizer necesita una lista de textos para funcionar\n",
        "X = count_vectorizer.fit_transform([texto_limpio])\n",
        "print(X.toarray())"
      ],
      "metadata": {
        "id": "O1L7-zyg-IhC",
        "colab": {
          "base_uri": "https://localhost:8080/"
        },
        "outputId": "1ad44cea-6dbd-4af3-a96a-5a748c5d1100"
      },
      "execution_count": 72,
      "outputs": [
        {
          "output_type": "stream",
          "name": "stdout",
          "text": [
            "[[1 1 2 1 3 3 2 1 1 1]]\n"
          ]
        }
      ]
    },
    {
      "cell_type": "code",
      "source": [
        "print(count_vectorizer.get_feature_names_out())"
      ],
      "metadata": {
        "id": "Aq6UTNu7-dBT",
        "colab": {
          "base_uri": "https://localhost:8080/"
        },
        "outputId": "6255abed-c595-46fd-f872-06752d778b16"
      },
      "execution_count": 73,
      "outputs": [
        {
          "output_type": "stream",
          "name": "stdout",
          "text": [
            "['camino' 'hacia' 'ira' 'lado' 'lleva' 'miedo' 'odio' 'oscuro' 'percibo'\n",
            " 'sufrimiento']\n"
          ]
        }
      ]
    },
    {
      "cell_type": "markdown",
      "source": [
        "Comparadlo con la versión sin limpiar:"
      ],
      "metadata": {
        "id": "bHYW85bn-yvX"
      }
    },
    {
      "cell_type": "code",
      "source": [
        "from sklearn.feature_extraction.text import CountVectorizer\n",
        "count_vectorizer = CountVectorizer()\n",
        "\n",
        "# el objeto count_vectorizer necesita una lista de textos para funcionar\n",
        "X = count_vectorizer.fit_transform(corpus)\n",
        "print(X.toarray())"
      ],
      "metadata": {
        "id": "y4h-fv92-4K8",
        "colab": {
          "base_uri": "https://localhost:8080/"
        },
        "outputId": "3342cb7a-1cd5-49bb-ba3c-bc6acd82b0e0"
      },
      "execution_count": 74,
      "outputs": [
        {
          "output_type": "stream",
          "name": "stdout",
          "text": [
            "[[2 1 5 1 1 1 2 2 1 3 3 1 2 1 1 1 1]]\n"
          ]
        }
      ]
    },
    {
      "cell_type": "code",
      "source": [
        "print(count_vectorizer.get_feature_names_out())"
      ],
      "metadata": {
        "id": "s7KUBXAP-4K_",
        "colab": {
          "base_uri": "https://localhost:8080/"
        },
        "outputId": "07725066-de8d-4f58-a03e-f988aaaff055"
      },
      "execution_count": 98,
      "outputs": [
        {
          "output_type": "stream",
          "name": "stdout",
          "text": [
            "['aire' 'amor' 'brazos' 'calor' 'comparado' 'deber' 'dioses' 'gloria'\n",
            " 'hermano' 'hicieron' 'hijo' 'honor' 'humanos' 'mayor' 'mujer' 'nacido'\n",
            " 'palabras' 'peor' 'recién' 'recuerdo' 'solo' 'sonrisa' 'tragedia']\n"
          ]
        }
      ]
    },
    {
      "cell_type": "markdown",
      "source": [
        "### Ejercicio 1\n",
        "\n",
        "Realiza la limpieza del dataset, la eliminación de stop-words y la vectorización del texto (bag of words) del siguiente texto:\n",
        "\n",
        "> \"¿Qué es el honor, comparado con el amor de una mujer? ¿Qué es el deber, comparado con el calor de un hijo recién nacido entre los brazos, o el recuerdo de la sonrisa de un hermano? Aire y palabras. Aire y palabras. Solo somos humanos, y los dioses nos hicieron para el amor. Es nuestra mayor gloria y nuestra peor tragedia.\" - Maestre Aemon, Juego de Tronos"
      ],
      "metadata": {
        "id": "kxiWIveA88_K"
      }
    },
    {
      "cell_type": "code",
      "source": [
        "corpus = ['¿Qué es el honor, comparado con el amor de una mujer? ¿Qué es el deber, comparado con el calor de un hijo recién nacido entre los brazos, o el recuerdo de la sonrisa de un hermano? Aire y palabras. Aire y palabras. Solo somos humanos, y los dioses nos hicieron para el amor. Es nuestra mayor gloria y nuestra peor tragedia.']"
      ],
      "metadata": {
        "id": "4lQuM5Xn_X0L"
      },
      "execution_count": 76,
      "outputs": []
    },
    {
      "cell_type": "code",
      "source": [
        "texto = re_punc.sub('', corpus[0])"
      ],
      "metadata": {
        "id": "9b4bS0NAukL5"
      },
      "execution_count": 77,
      "outputs": []
    },
    {
      "cell_type": "code",
      "source": [
        "print(texto)"
      ],
      "metadata": {
        "colab": {
          "base_uri": "https://localhost:8080/"
        },
        "id": "tmYx17VyzLZr",
        "outputId": "3d190015-576e-474b-ff53-19b51870f572"
      },
      "execution_count": 78,
      "outputs": [
        {
          "output_type": "stream",
          "name": "stdout",
          "text": [
            "Qué es el honor comparado con el amor de una mujer Qué es el deber comparado con el calor de un hijo recién nacido entre los brazos o el recuerdo de la sonrisa de un hermano Aire y palabras Aire y palabras Solo somos humanos y los dioses nos hicieron para el amor Es nuestra mayor gloria y nuestra peor tragedia\n"
          ]
        }
      ]
    },
    {
      "cell_type": "code",
      "source": [
        "texto = texto.lower()"
      ],
      "metadata": {
        "id": "wbg5uhrPu_se"
      },
      "execution_count": 79,
      "outputs": []
    },
    {
      "cell_type": "code",
      "source": [
        "stop_words = stopwords.words('spanish')\n",
        "palabras = texto.split(' ')"
      ],
      "metadata": {
        "id": "eZkR1Jf1vHNG"
      },
      "execution_count": 80,
      "outputs": []
    },
    {
      "cell_type": "code",
      "source": [
        "palabras_limpias = [p for p in palabras if p not in stop_words]\n",
        "print(palabras_limpias)"
      ],
      "metadata": {
        "colab": {
          "base_uri": "https://localhost:8080/"
        },
        "id": "HBDSgZjbvLS6",
        "outputId": "b1b8d19c-31ef-4f2b-f0c5-49ee5f405caa"
      },
      "execution_count": 81,
      "outputs": [
        {
          "output_type": "stream",
          "name": "stdout",
          "text": [
            "['honor', 'comparado', 'amor', 'mujer', 'deber', 'comparado', 'calor', 'hijo', 'recién', 'nacido', 'brazos', 'recuerdo', 'sonrisa', 'hermano', 'aire', 'palabras', 'aire', 'palabras', 'solo', 'humanos', 'dioses', 'hicieron', 'amor', 'mayor', 'gloria', 'peor', 'tragedia']\n"
          ]
        }
      ]
    },
    {
      "cell_type": "code",
      "source": [
        "texto_limpio = ' '.join(palabras_limpias)\n",
        "print(texto_limpio)"
      ],
      "metadata": {
        "colab": {
          "base_uri": "https://localhost:8080/"
        },
        "id": "Zlp3oGO9vTb0",
        "outputId": "6106a292-b797-4c17-d5d1-0aa8d8e13716"
      },
      "execution_count": 82,
      "outputs": [
        {
          "output_type": "stream",
          "name": "stdout",
          "text": [
            "honor comparado amor mujer deber comparado calor hijo recién nacido brazos recuerdo sonrisa hermano aire palabras aire palabras solo humanos dioses hicieron amor mayor gloria peor tragedia\n"
          ]
        }
      ]
    },
    {
      "cell_type": "code",
      "source": [
        "count_vectorizer = CountVectorizer()\n",
        "\n",
        "X = count_vectorizer.fit_transform([texto_limpio])"
      ],
      "metadata": {
        "id": "bJPF2Z_zvUcX"
      },
      "execution_count": 83,
      "outputs": []
    },
    {
      "cell_type": "code",
      "source": [
        "print(count_vectorizer.get_feature_names_out())"
      ],
      "metadata": {
        "colab": {
          "base_uri": "https://localhost:8080/"
        },
        "id": "0lMKS3d8vo2H",
        "outputId": "a356b6c6-1f50-4ec8-e7fc-5bde3fd6c5c4"
      },
      "execution_count": 84,
      "outputs": [
        {
          "output_type": "stream",
          "name": "stdout",
          "text": [
            "['aire' 'amor' 'brazos' 'calor' 'comparado' 'deber' 'dioses' 'gloria'\n",
            " 'hermano' 'hicieron' 'hijo' 'honor' 'humanos' 'mayor' 'mujer' 'nacido'\n",
            " 'palabras' 'peor' 'recién' 'recuerdo' 'solo' 'sonrisa' 'tragedia']\n"
          ]
        }
      ]
    },
    {
      "cell_type": "markdown",
      "source": [
        "### Ejercicio 2\n",
        "\n",
        "Realiza la limpieza del dataset, la eliminación de stop-words y la vectorización del texto (bag of words) del siguiente *corpus* de documentos:\n",
        "\n",
        "> \"Cuando se juega al Juego de Tronos, solo se puede ganar o morir.\" - Cersei Lannister\n",
        "\n",
        "> \"Por qué será que en cuanto un hombre construye un muro, su vecino inmediatamente quiere saber qué hay del otro lado.\" - Tyrion Lannister\n",
        "\n",
        "> \"¿Qué es el honor, comparado con el amor de una mujer? ¿Qué es el deber, comparado con el calor de un hijo recién nacido entre los brazos, o el recuerdo de la sonrisa de un hermano? Aire y palabras. Aire y palabras. Solo somos humanos, y los dioses nos hicieron para el amor. Es nuestra mayor gloria y nuestra peor tragedia.\" - Maestre Aemon, Juego de Tronos\n",
        "\n",
        "> \"El hombre que dicta la condena debe blandir la espada.\" - Eddard Stark\n",
        "\n",
        "> \"El poder reside donde los hombres creen que reside. Es un truco, una sombra en la pared. Y un hombre muy pequeño puede proyectar una sombra muy grande.\" - Lord Varys"
      ],
      "metadata": {
        "id": "_rWIR9XACDvM"
      }
    },
    {
      "cell_type": "code",
      "source": [
        "corpus = [\n",
        "    \"Cuando se juega al Juego de Tronos, solo se puede ganar o morir.\",\n",
        "    \"Por qué será que en cuanto un hombre construye un muro, su vecino inmediatamente quiere saber qué hay del otro lado.\",\n",
        "    \"¿Qué es el honor, comparado con el amor de una mujer? ¿Qué es el deber, comparado con el calor de un hijo recién nacido entre los brazos, o el recuerdo de la sonrisa de un hermano? Aire y palabras. Aire y palabras. Solo somos humanos, y los dioses nos hicieron para el amor. Es nuestra mayor gloria y nuestra peor tragedia.\",\n",
        "    \"El hombre que dicta la condena debe blandir la espada.\",\n",
        "    \"El poder reside donde los hombres creen que reside. Es un truco, una sombra en la pared. Y un hombre muy pequeño puede proyectar una sombra muy grande.\"\n",
        "]"
      ],
      "metadata": {
        "id": "uqug2lmKCDvO"
      },
      "execution_count": 99,
      "outputs": []
    },
    {
      "cell_type": "code",
      "source": [
        "corpus = [' '.join(corpus)]"
      ],
      "metadata": {
        "id": "iYbkkN_5wCP9"
      },
      "execution_count": 100,
      "outputs": []
    },
    {
      "cell_type": "code",
      "source": [
        "print(corpus)"
      ],
      "metadata": {
        "colab": {
          "base_uri": "https://localhost:8080/"
        },
        "id": "QBZpMOXUz6cW",
        "outputId": "59ff37d5-c4ae-42d9-b393-5f08da65a65d"
      },
      "execution_count": 101,
      "outputs": [
        {
          "output_type": "stream",
          "name": "stdout",
          "text": [
            "['Cuando se juega al Juego de Tronos, solo se puede ganar o morir. Por qué será que en cuanto un hombre construye un muro, su vecino inmediatamente quiere saber qué hay del otro lado. ¿Qué es el honor, comparado con el amor de una mujer? ¿Qué es el deber, comparado con el calor de un hijo recién nacido entre los brazos, o el recuerdo de la sonrisa de un hermano? Aire y palabras. Aire y palabras. Solo somos humanos, y los dioses nos hicieron para el amor. Es nuestra mayor gloria y nuestra peor tragedia. El hombre que dicta la condena debe blandir la espada. El poder reside donde los hombres creen que reside. Es un truco, una sombra en la pared. Y un hombre muy pequeño puede proyectar una sombra muy grande.']\n"
          ]
        }
      ]
    },
    {
      "cell_type": "code",
      "source": [
        "texto = re_punc.sub('', corpus[0])"
      ],
      "metadata": {
        "id": "mVkFkztE0naS"
      },
      "execution_count": 102,
      "outputs": []
    },
    {
      "cell_type": "code",
      "source": [
        "print(texto)"
      ],
      "metadata": {
        "colab": {
          "base_uri": "https://localhost:8080/"
        },
        "id": "g0cWx2yi1DBw",
        "outputId": "a778d3b6-7cbf-4e72-b924-9ae1700db19d"
      },
      "execution_count": 103,
      "outputs": [
        {
          "output_type": "stream",
          "name": "stdout",
          "text": [
            "Cuando se juega al Juego de Tronos solo se puede ganar o morir Por qué será que en cuanto un hombre construye un muro su vecino inmediatamente quiere saber qué hay del otro lado Qué es el honor comparado con el amor de una mujer Qué es el deber comparado con el calor de un hijo recién nacido entre los brazos o el recuerdo de la sonrisa de un hermano Aire y palabras Aire y palabras Solo somos humanos y los dioses nos hicieron para el amor Es nuestra mayor gloria y nuestra peor tragedia El hombre que dicta la condena debe blandir la espada El poder reside donde los hombres creen que reside Es un truco una sombra en la pared Y un hombre muy pequeño puede proyectar una sombra muy grande\n"
          ]
        }
      ]
    },
    {
      "cell_type": "code",
      "source": [
        "texto = texto.lower()"
      ],
      "metadata": {
        "id": "OFKBmJnm1EnW"
      },
      "execution_count": 104,
      "outputs": []
    },
    {
      "cell_type": "code",
      "source": [
        "stop_words = stopwords.words('spanish')\n",
        "palabras = texto.split(' ')"
      ],
      "metadata": {
        "id": "MsNrqp1X1QVG"
      },
      "execution_count": 105,
      "outputs": []
    },
    {
      "cell_type": "code",
      "source": [
        "print(palabras)"
      ],
      "metadata": {
        "colab": {
          "base_uri": "https://localhost:8080/"
        },
        "id": "t8aoi7zm1Vxm",
        "outputId": "ddba1647-d73a-48bc-dfb0-aee73ebff6db"
      },
      "execution_count": 106,
      "outputs": [
        {
          "output_type": "stream",
          "name": "stdout",
          "text": [
            "['cuando', 'se', 'juega', 'al', 'juego', 'de', 'tronos', 'solo', 'se', 'puede', 'ganar', 'o', 'morir', 'por', 'qué', 'será', 'que', 'en', 'cuanto', 'un', 'hombre', 'construye', 'un', 'muro', 'su', 'vecino', 'inmediatamente', 'quiere', 'saber', 'qué', 'hay', 'del', 'otro', 'lado', 'qué', 'es', 'el', 'honor', 'comparado', 'con', 'el', 'amor', 'de', 'una', 'mujer', 'qué', 'es', 'el', 'deber', 'comparado', 'con', 'el', 'calor', 'de', 'un', 'hijo', 'recién', 'nacido', 'entre', 'los', 'brazos', 'o', 'el', 'recuerdo', 'de', 'la', 'sonrisa', 'de', 'un', 'hermano', 'aire', 'y', 'palabras', 'aire', 'y', 'palabras', 'solo', 'somos', 'humanos', 'y', 'los', 'dioses', 'nos', 'hicieron', 'para', 'el', 'amor', 'es', 'nuestra', 'mayor', 'gloria', 'y', 'nuestra', 'peor', 'tragedia', 'el', 'hombre', 'que', 'dicta', 'la', 'condena', 'debe', 'blandir', 'la', 'espada', 'el', 'poder', 'reside', 'donde', 'los', 'hombres', 'creen', 'que', 'reside', 'es', 'un', 'truco', 'una', 'sombra', 'en', 'la', 'pared', 'y', 'un', 'hombre', 'muy', 'pequeño', 'puede', 'proyectar', 'una', 'sombra', 'muy', 'grande']\n"
          ]
        }
      ]
    },
    {
      "cell_type": "code",
      "source": [
        "palabras_limpias = [p for p in palabras if p not in stop_words]\n",
        "print(palabras_limpias)"
      ],
      "metadata": {
        "colab": {
          "base_uri": "https://localhost:8080/"
        },
        "id": "JX5qM4iv1X7x",
        "outputId": "2e277267-47e5-4d39-eaf1-daa31b0fd6ce"
      },
      "execution_count": 107,
      "outputs": [
        {
          "output_type": "stream",
          "name": "stdout",
          "text": [
            "['juega', 'juego', 'tronos', 'solo', 'puede', 'ganar', 'morir', 'cuanto', 'hombre', 'construye', 'muro', 'vecino', 'inmediatamente', 'quiere', 'saber', 'lado', 'honor', 'comparado', 'amor', 'mujer', 'deber', 'comparado', 'calor', 'hijo', 'recién', 'nacido', 'brazos', 'recuerdo', 'sonrisa', 'hermano', 'aire', 'palabras', 'aire', 'palabras', 'solo', 'humanos', 'dioses', 'hicieron', 'amor', 'mayor', 'gloria', 'peor', 'tragedia', 'hombre', 'dicta', 'condena', 'debe', 'blandir', 'espada', 'poder', 'reside', 'hombres', 'creen', 'reside', 'truco', 'sombra', 'pared', 'hombre', 'pequeño', 'puede', 'proyectar', 'sombra', 'grande']\n"
          ]
        }
      ]
    },
    {
      "cell_type": "code",
      "source": [
        "texto_limpio = ' '.join(palabras_limpias)\n",
        "print(texto_limpio)"
      ],
      "metadata": {
        "colab": {
          "base_uri": "https://localhost:8080/"
        },
        "id": "RKt_G8ue1g6m",
        "outputId": "06fa69fe-3187-4aba-f545-045052957413"
      },
      "execution_count": 108,
      "outputs": [
        {
          "output_type": "stream",
          "name": "stdout",
          "text": [
            "juega juego tronos solo puede ganar morir cuanto hombre construye muro vecino inmediatamente quiere saber lado honor comparado amor mujer deber comparado calor hijo recién nacido brazos recuerdo sonrisa hermano aire palabras aire palabras solo humanos dioses hicieron amor mayor gloria peor tragedia hombre dicta condena debe blandir espada poder reside hombres creen reside truco sombra pared hombre pequeño puede proyectar sombra grande\n"
          ]
        }
      ]
    },
    {
      "cell_type": "code",
      "source": [
        "count_vectorizer = CountVectorizer()\n",
        "\n",
        "X = count_vectorizer.fit_transform([texto_limpio])"
      ],
      "metadata": {
        "id": "KdaB0Zdt1sfQ"
      },
      "execution_count": 109,
      "outputs": []
    },
    {
      "cell_type": "code",
      "source": [
        "print(count_vectorizer.get_feature_names_out())"
      ],
      "metadata": {
        "colab": {
          "base_uri": "https://localhost:8080/"
        },
        "id": "1YSMExKU18Tj",
        "outputId": "24ed0909-0825-463e-fdf7-6d3d152e23ec"
      },
      "execution_count": 110,
      "outputs": [
        {
          "output_type": "stream",
          "name": "stdout",
          "text": [
            "['aire' 'amor' 'blandir' 'brazos' 'calor' 'comparado' 'condena'\n",
            " 'construye' 'creen' 'cuanto' 'debe' 'deber' 'dicta' 'dioses' 'espada'\n",
            " 'ganar' 'gloria' 'grande' 'hermano' 'hicieron' 'hijo' 'hombre' 'hombres'\n",
            " 'honor' 'humanos' 'inmediatamente' 'juega' 'juego' 'lado' 'mayor' 'morir'\n",
            " 'mujer' 'muro' 'nacido' 'palabras' 'pared' 'peor' 'pequeño' 'poder'\n",
            " 'proyectar' 'puede' 'quiere' 'recién' 'recuerdo' 'reside' 'saber' 'solo'\n",
            " 'sombra' 'sonrisa' 'tragedia' 'tronos' 'truco' 'vecino']\n"
          ]
        }
      ]
    },
    {
      "cell_type": "code",
      "source": [],
      "metadata": {
        "id": "qNfgCqCg2N06"
      },
      "execution_count": null,
      "outputs": []
    }
  ]
}